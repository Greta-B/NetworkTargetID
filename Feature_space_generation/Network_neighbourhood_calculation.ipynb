{
 "cells": [
  {
   "cell_type": "code",
   "execution_count": 1,
   "id": "5ff8ee87",
   "metadata": {},
   "outputs": [],
   "source": [
    "import networkx as nx\n",
    "import pandas as pd\n",
    "import scipy\n",
    "import seaborn as sns\n",
    "import matplotlib.pyplot as plt\n",
    "import numpy as np\n",
    "import csv\n",
    "import os"
   ]
  },
  {
   "cell_type": "code",
   "execution_count": 2,
   "id": "85c4eea7",
   "metadata": {},
   "outputs": [],
   "source": [
    "string_addr = \"../data/9606.protein.links.v11.5.noscores.threshold400.txt\"\n",
    "with open(string_addr) as network_f:\n",
    "    string_network_edges = [x.strip().split(',') for x in network_f.readlines()]\n",
    "\n",
    "# STRING edgelist to network\n",
    "G = nx.Graph(string_network_edges)"
   ]
  },
  {
   "cell_type": "code",
   "execution_count": 3,
   "id": "bfe91d9b",
   "metadata": {},
   "outputs": [],
   "source": [
    "def import_and_filter(filepath, G):\n",
    "    data = pd.read_csv(filepath)\n",
    "    proteins = set(data[\"x\"])\n",
    "    return [protein for protein in proteins if protein in G.nodes]"
   ]
  },
  {
   "cell_type": "code",
   "execution_count": 4,
   "id": "deb42d4e-b232-4bb4-b41b-0cfbee020e1b",
   "metadata": {},
   "outputs": [
    {
     "name": "stdout",
     "output_type": "stream",
     "text": [
      "['B_cells_markers.csv', 'CAGs.csv', 'CD4_markers.csv', 'CD8_markers.csv', 'Clark_CNV_GAIN.csv', 'Clark_CNV_LOSS.csv', 'Clark_Phospho_DOWN.csv', 'Clark_Phospho_UP.csv', 'Clark_Prot_DOWN.csv', 'Clark_Prot_UP.csv', 'Clark_RNA_DOWN.csv', 'Clark_RNA_UP.csv', 'Common_essentials.csv', 'Endo_markers.csv', 'Epi_markers.csv', 'FPGs.csv', 'Fibro_markers.csv', 'Macro_markers.csv', 'Mast_markers.csv', 'Mono_markers.csv', 'NK_markers.csv', 'PT_PRAP_markers.csv', 'Plasma_markers.csv', 'RCC_TFs_DOWN.csv', 'RCC_TFs_UP.csv', 'RCC_vs_PRAP_DOWN.csv', 'RCC_vs_PRAP_UP.csv', 'Treg_markers.csv', 'Tumour_markers.csv', 'UPGs.csv', 'cDC1_markers.csv', 'cDC2_markers.csv', 'pDC_markers.csv']\n"
     ]
    }
   ],
   "source": [
    "directory_path = \"../data/CDAGs\"\n",
    "sorted_files = sorted(os.listdir(directory_path))\n",
    "print(sorted_files)"
   ]
  },
  {
   "cell_type": "code",
   "execution_count": 5,
   "id": "050041a5-eb7a-40b8-a829-a60de2a80bba",
   "metadata": {},
   "outputs": [],
   "source": [
    "genes = {}\n",
    "for filename in sorted_files:\n",
    "    if filename.endswith(\".csv\"):\n",
    "        full_path = os.path.join(directory_path, filename)\n",
    "        set_name = filename.split(\".\")[0]\n",
    "        genes[set_name] = import_and_filter(full_path, G)"
   ]
  },
  {
   "cell_type": "code",
   "execution_count": 6,
   "id": "611e6d43-09cf-4791-955a-71f7294361be",
   "metadata": {},
   "outputs": [],
   "source": [
    "DTGs_path = \"../data/DTGs/DTGs_class1_202Prot.csv\"\n",
    "genes[\"DTGs\"] = import_and_filter(DTGs_path, G)"
   ]
  },
  {
   "cell_type": "code",
   "execution_count": 7,
   "id": "66ed99c4-6d74-435b-a650-d04f6e11589e",
   "metadata": {},
   "outputs": [
    {
     "name": "stdout",
     "output_type": "stream",
     "text": [
      "11108\n"
     ]
    }
   ],
   "source": [
    "all_proteins_from_sets = set().union(*genes.values())\n",
    "remaining_proteins_in_G = [node for node in G.nodes() if node not in all_proteins_from_sets]\n",
    "print(len(remaining_proteins_in_G))\n",
    "genes[\"Others\"] = remaining_proteins_in_G"
   ]
  },
  {
   "cell_type": "code",
   "execution_count": 8,
   "id": "1fe6d46f-6222-454b-9fc2-1f94294a004b",
   "metadata": {},
   "outputs": [],
   "source": [
    "def compute_ratios(gene, G, gene_sets):\n",
    "    neighbours = list(G.neighbors(gene))\n",
    "    counts = {set_name: 0 for set_name in gene_sets.keys()}\n",
    "\n",
    "    for neighbour in neighbours:\n",
    "        for set_name, genes_in_set in gene_sets.items():\n",
    "            if neighbour in genes_in_set:\n",
    "                counts[set_name] += 1\n",
    "                \n",
    "\n",
    "    total_neighbours = len(neighbours)\n",
    "    if total_neighbours == 0:\n",
    "        return {set_name: 0 for set_name in gene_sets.keys()}\n",
    "        \n",
    "    ratios = {set_name: count / total_neighbours for set_name, count in counts.items()}\n",
    "\n",
    "    return ratios\n",
    "\n",
    "\n",
    "\n",
    "ratios_for_all_genes = {}\n",
    "\n",
    "for gene in G.nodes():\n",
    "    ratios_for_all_genes[gene] = compute_ratios(gene, G, genes)\n",
    "\n",
    "# Write the results to file\n",
    "with open('outputs/network_neighbourhood.csv', 'w', newline='') as csvfile:\n",
    "    fieldnames = ['Gene'] + list(genes.keys())\n",
    "    writer = csv.DictWriter(csvfile, fieldnames=fieldnames)\n",
    "    writer.writeheader()\n",
    "    \n",
    "    for gene in G.nodes():\n",
    "        row = {'Gene': gene}\n",
    "\n",
    "        # Initialize the row with zeros for each gene set\n",
    "        row.update({set_name: 0 for set_name in genes.keys()})\n",
    "\n",
    "        if gene in ratios_for_all_genes:\n",
    "            row.update(ratios_for_all_genes[gene])\n",
    "\n",
    "        writer.writerow(row)"
   ]
  },
  {
   "cell_type": "code",
   "execution_count": null,
   "id": "c7dda7f8-3983-47f5-93b6-23ca76ba0ad2",
   "metadata": {},
   "outputs": [],
   "source": []
  }
 ],
 "metadata": {
  "kernelspec": {
   "display_name": "target_prediction",
   "language": "python",
   "name": "target_prediction"
  },
  "language_info": {
   "codemirror_mode": {
    "name": "ipython",
    "version": 3
   },
   "file_extension": ".py",
   "mimetype": "text/x-python",
   "name": "python",
   "nbconvert_exporter": "python",
   "pygments_lexer": "ipython3",
   "version": "3.9.16"
  }
 },
 "nbformat": 4,
 "nbformat_minor": 5
}
