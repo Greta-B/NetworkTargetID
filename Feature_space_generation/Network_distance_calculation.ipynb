{
 "cells": [
  {
   "cell_type": "code",
   "execution_count": 1,
   "id": "d51cb287",
   "metadata": {},
   "outputs": [],
   "source": [
    "import networkx as nx\n",
    "import pandas as pd\n",
    "import scipy\n",
    "import seaborn as sns\n",
    "import matplotlib.pyplot as plt\n",
    "import numpy as np\n",
    "import csv\n",
    "import os"
   ]
  },
  {
   "cell_type": "code",
   "execution_count": 2,
   "id": "dbb554a3",
   "metadata": {},
   "outputs": [],
   "source": [
    "string_addr = \"../data/9606.protein.links.v11.5.noscores.threshold400.txt\"\n",
    "with open(string_addr) as network_f:\n",
    "    string_network_edges = [x.strip().split(',') for x in network_f.readlines()]\n",
    "\n",
    "# STRING edgelist to network\n",
    "G = nx.Graph(string_network_edges)"
   ]
  },
  {
   "cell_type": "code",
   "execution_count": 3,
   "id": "48e03af5",
   "metadata": {},
   "outputs": [],
   "source": [
    "def import_and_filter(filepath, G):\n",
    "    data = pd.read_csv(filepath)\n",
    "    proteins = set(data[\"x\"])\n",
    "    return [protein for protein in proteins if protein in G.nodes]"
   ]
  },
  {
   "cell_type": "code",
   "execution_count": 4,
   "id": "2da7e068-bd8e-49f3-8a57-affd3303f2fb",
   "metadata": {},
   "outputs": [
    {
     "name": "stdout",
     "output_type": "stream",
     "text": [
      "['B_cells_markers.csv', 'CAGs.csv', 'CD4_markers.csv', 'CD8_markers.csv', 'Clark_CNV_GAIN.csv', 'Clark_CNV_LOSS.csv', 'Clark_Phospho_DOWN.csv', 'Clark_Phospho_UP.csv', 'Clark_Prot_DOWN.csv', 'Clark_Prot_UP.csv', 'Clark_RNA_DOWN.csv', 'Clark_RNA_UP.csv', 'Common_essentials.csv', 'Endo_markers.csv', 'Epi_markers.csv', 'FPGs.csv', 'Fibro_markers.csv', 'Macro_markers.csv', 'Mast_markers.csv', 'Mono_markers.csv', 'NK_markers.csv', 'PT_PRAP_markers.csv', 'Plasma_markers.csv', 'RCC_TFs_DOWN.csv', 'RCC_TFs_UP.csv', 'RCC_vs_PRAP_DOWN.csv', 'RCC_vs_PRAP_UP.csv', 'Treg_markers.csv', 'Tumour_markers.csv', 'UPGs.csv', 'cDC1_markers.csv', 'cDC2_markers.csv', 'pDC_markers.csv']\n"
     ]
    }
   ],
   "source": [
    "directory_path = \"../data/CDAGs\"\n",
    "sorted_files = sorted(os.listdir(directory_path))\n",
    "print(sorted_files)"
   ]
  },
  {
   "cell_type": "code",
   "execution_count": 5,
   "id": "94c7d51a-2195-4c09-bef5-4fd54ed93b2f",
   "metadata": {},
   "outputs": [],
   "source": [
    "sets = {}\n",
    "for filename in sorted_files:\n",
    "    if filename.endswith(\".csv\"):\n",
    "        full_path = os.path.join(directory_path, filename)\n",
    "        set_name = filename.split(\".\")[0]\n",
    "        sets[set_name] = import_and_filter(full_path, G)"
   ]
  },
  {
   "cell_type": "code",
   "execution_count": 6,
   "id": "047a7906-76ad-4cd8-bf16-404dcbf3044e",
   "metadata": {},
   "outputs": [],
   "source": [
    "DTGs_path = \"../data/DTGs/DTGs_class1_202Prot.csv\"\n",
    "sets[\"DTGs\"] = import_and_filter(DTGs_path, G)"
   ]
  },
  {
   "cell_type": "code",
   "execution_count": 7,
   "id": "da961706-936e-4f45-86a5-0a1daeec900f",
   "metadata": {},
   "outputs": [
    {
     "name": "stdout",
     "output_type": "stream",
     "text": [
      "11108\n"
     ]
    }
   ],
   "source": [
    "all_proteins_from_sets = set().union(*sets.values())\n",
    "remaining_proteins_in_G = [node for node in G.nodes() if node not in all_proteins_from_sets]\n",
    "print(len(remaining_proteins_in_G))\n",
    "sets[\"Others\"] = remaining_proteins_in_G"
   ]
  },
  {
   "cell_type": "code",
   "execution_count": 8,
   "id": "31fdc39b-0c29-45da-a19e-b07dd8d85fcd",
   "metadata": {},
   "outputs": [],
   "source": [
    "#Calculate average and minimum shortest paths to signatures\n",
    "fieldnames = ['Gene'] + [f\"Mean_{set_name}\" for set_name in sets.keys()] + [f\"Min_{set_name}\" for set_name in sets.keys()]\n",
    "with open('outputs/network_distances.csv', 'w', newline='') as csvfile:\n",
    "    writer = csv.DictWriter(csvfile, fieldnames=fieldnames)\n",
    "    writer.writeheader()\n",
    "\n",
    "    for gene in G.nodes():\n",
    "        row = {'Gene': gene}\n",
    "        for set_name, proteins in sets.items():\n",
    "            distances = [nx.shortest_path_length(G, source=gene, target=p) for p in proteins if nx.has_path(G, gene, p)]\n",
    "            if distances:\n",
    "                row[f\"Mean_{set_name}\"] = np.mean(distances)\n",
    "                row[f\"Min_{set_name}\"] = np.min(distances)\n",
    "            else:\n",
    "                row[f\"Mean_{set_name}\"] = np.inf\n",
    "                row[f\"Min_{set_name}\"] = np.inf\n",
    "        writer.writerow(row)"
   ]
  },
  {
   "cell_type": "code",
   "execution_count": null,
   "id": "3e638082-792e-42cc-b841-38511a45340e",
   "metadata": {},
   "outputs": [],
   "source": []
  }
 ],
 "metadata": {
  "kernelspec": {
   "display_name": "target_prediction",
   "language": "python",
   "name": "target_prediction"
  },
  "language_info": {
   "codemirror_mode": {
    "name": "ipython",
    "version": 3
   },
   "file_extension": ".py",
   "mimetype": "text/x-python",
   "name": "python",
   "nbconvert_exporter": "python",
   "pygments_lexer": "ipython3",
   "version": "3.9.16"
  }
 },
 "nbformat": 4,
 "nbformat_minor": 5
}
