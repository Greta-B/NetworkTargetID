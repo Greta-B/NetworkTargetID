{
 "cells": [
  {
   "cell_type": "code",
   "execution_count": 1,
   "id": "7ab02598",
   "metadata": {},
   "outputs": [],
   "source": [
    "import networkx as nx\n",
    "import pandas as pd\n",
    "import scipy"
   ]
  },
  {
   "cell_type": "code",
   "execution_count": 2,
   "id": "98800ec9",
   "metadata": {},
   "outputs": [],
   "source": [
    "string_addr = \"../data/9606.protein.links.v11.5.noscores.threshold400.txt\"\n",
    "with open(string_addr) as network_f:\n",
    "    string_network_edges = [x.strip().split(',') for x in network_f.readlines()]\n",
    "\n",
    "# STRING edgelist to network\n",
    "G = nx.Graph(string_network_edges)"
   ]
  },
  {
   "cell_type": "code",
   "execution_count": 3,
   "id": "e890dc90",
   "metadata": {},
   "outputs": [],
   "source": [
    "# Calculate centrality measures\n",
    "degree_centrality = nx.degree_centrality(G)\n",
    "betweenness_centrality = nx.betweenness_centrality(G)\n",
    "eigenvector_centrality = nx.eigenvector_centrality(G)\n",
    "pagerank_centrality = nx.pagerank(G)"
   ]
  },
  {
   "cell_type": "code",
   "execution_count": 4,
   "id": "7d6202f6",
   "metadata": {},
   "outputs": [],
   "source": [
    "df = pd.DataFrame({\n",
    "    'Node': list(G.nodes()),\n",
    "    'Degree Centrality': [degree_centrality[node] for node in G.nodes()],\n",
    "    'Betweenness Centrality': [betweenness_centrality[node] for node in G.nodes()],\n",
    "    'Eigenvector Centrality': [eigenvector_centrality[node] for node in G.nodes()],\n",
    "    'PageRank Centrality': [pagerank_centrality[node] for node in G.nodes()],\n",
    "})\n",
    "\n",
    "df.to_csv('outputs/centrality_scores.csv', index=False)"
   ]
  },
  {
   "cell_type": "code",
   "execution_count": null,
   "id": "5a4493b4",
   "metadata": {},
   "outputs": [],
   "source": []
  }
 ],
 "metadata": {
  "kernelspec": {
   "display_name": "target_prediction",
   "language": "python",
   "name": "target_prediction"
  },
  "language_info": {
   "codemirror_mode": {
    "name": "ipython",
    "version": 3
   },
   "file_extension": ".py",
   "mimetype": "text/x-python",
   "name": "python",
   "nbconvert_exporter": "python",
   "pygments_lexer": "ipython3",
   "version": "3.9.16"
  }
 },
 "nbformat": 4,
 "nbformat_minor": 5
}
